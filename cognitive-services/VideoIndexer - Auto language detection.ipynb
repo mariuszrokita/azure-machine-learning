{
 "cells": [
  {
   "cell_type": "markdown",
   "metadata": {},
   "source": [
    "# Install video indexer library"
   ]
  },
  {
   "cell_type": "code",
   "execution_count": null,
   "metadata": {
    "ExecuteTime": {
     "end_time": "2019-08-14T05:47:43.574531Z",
     "start_time": "2019-08-14T05:47:41.887910Z"
    }
   },
   "outputs": [],
   "source": [
    "!pip install video_indexer"
   ]
  },
  {
   "cell_type": "markdown",
   "metadata": {},
   "source": [
    "# Create a VideoIndexer instance"
   ]
  },
  {
   "cell_type": "code",
   "execution_count": null,
   "metadata": {
    "ExecuteTime": {
     "end_time": "2019-08-14T06:01:29.193936Z",
     "start_time": "2019-08-14T06:01:29.190279Z"
    }
   },
   "outputs": [],
   "source": [
    "CONFIG = {\n",
    "    'SUBSCRIPTION_KEY': '',\n",
    "    'LOCATION': '',\n",
    "    'ACCOUNT_ID': ''\n",
    "}"
   ]
  },
  {
   "cell_type": "code",
   "execution_count": null,
   "metadata": {
    "ExecuteTime": {
     "end_time": "2019-08-14T06:01:30.602549Z",
     "start_time": "2019-08-14T06:01:30.397297Z"
    }
   },
   "outputs": [],
   "source": [
    "from video_indexer import VideoIndexer\n",
    "\n",
    "vi = VideoIndexer(\n",
    "    vi_subscription_key=CONFIG['SUBSCRIPTION_KEY'],\n",
    "    vi_location=CONFIG['LOCATION'],\n",
    "    vi_account_id=CONFIG['ACCOUNT_ID']\n",
    ")"
   ]
  },
  {
   "cell_type": "markdown",
   "metadata": {},
   "source": [
    "# Upload videos and get information"
   ]
  },
  {
   "cell_type": "code",
   "execution_count": null,
   "metadata": {
    "ExecuteTime": {
     "end_time": "2019-08-14T06:08:24.310697Z",
     "start_time": "2019-08-14T06:06:21.159598Z"
    }
   },
   "outputs": [],
   "source": [
    "video_id = vi.upload_to_video_indexer(\n",
    "   input_filename='./assets/video indexer/5 nuovi podcast in italiano da ascoltare (2019 - long.wav',\n",
    "   video_name='5 nuovi podcast in italiano da ascoltare (2019 - long', # Unique identifier\n",
    "   video_language=''\n",
    ")"
   ]
  }
 ],
 "metadata": {
  "kernelspec": {
   "display_name": "Python [conda root]",
   "language": "python",
   "name": "conda-root-py"
  },
  "language_info": {
   "codemirror_mode": {
    "name": "ipython",
    "version": 3
   },
   "file_extension": ".py",
   "mimetype": "text/x-python",
   "name": "python",
   "nbconvert_exporter": "python",
   "pygments_lexer": "ipython3",
   "version": "3.6.8"
  },
  "toc": {
   "base_numbering": 1,
   "nav_menu": {},
   "number_sections": true,
   "sideBar": true,
   "skip_h1_title": false,
   "title_cell": "Table of Contents",
   "title_sidebar": "Contents",
   "toc_cell": false,
   "toc_position": {},
   "toc_section_display": true,
   "toc_window_display": false
  }
 },
 "nbformat": 4,
 "nbformat_minor": 2
}
