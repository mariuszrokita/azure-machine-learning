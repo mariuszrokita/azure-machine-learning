{
 "cells": [
  {
   "cell_type": "markdown",
   "metadata": {},
   "source": [
    "# Install video indexer library"
   ]
  },
  {
   "cell_type": "code",
   "execution_count": 1,
   "metadata": {
    "ExecuteTime": {
     "end_time": "2019-08-15T18:00:49.472681Z",
     "start_time": "2019-08-15T18:00:47.874398Z"
    }
   },
   "outputs": [
    {
     "name": "stdout",
     "output_type": "stream",
     "text": [
      "Requirement already satisfied: video_indexer in /Users/mariuszrokita/anaconda/lib/python3.6/site-packages (0.1.6)\n",
      "Requirement already satisfied: requests in /Users/mariuszrokita/anaconda/lib/python3.6/site-packages (from video_indexer) (2.21.0)\n",
      "Requirement already satisfied: chardet<3.1.0,>=3.0.2 in /Users/mariuszrokita/anaconda/lib/python3.6/site-packages (from requests->video_indexer) (3.0.4)\n",
      "Requirement already satisfied: certifi>=2017.4.17 in /Users/mariuszrokita/anaconda/lib/python3.6/site-packages (from requests->video_indexer) (2019.3.9)\n",
      "Requirement already satisfied: idna<2.9,>=2.5 in /Users/mariuszrokita/anaconda/lib/python3.6/site-packages (from requests->video_indexer) (2.7)\n",
      "Requirement already satisfied: urllib3<1.25,>=1.21.1 in /Users/mariuszrokita/anaconda/lib/python3.6/site-packages (from requests->video_indexer) (1.23)\n",
      "\u001b[33mYou are using pip version 19.0.3, however version 19.2.2 is available.\n",
      "You should consider upgrading via the 'pip install --upgrade pip' command.\u001b[0m\n"
     ]
    }
   ],
   "source": [
    "!pip install video_indexer"
   ]
  },
  {
   "cell_type": "markdown",
   "metadata": {},
   "source": [
    "# Create a VideoIndexer instance"
   ]
  },
  {
   "cell_type": "code",
   "execution_count": 2,
   "metadata": {
    "ExecuteTime": {
     "end_time": "2019-08-15T18:00:50.843768Z",
     "start_time": "2019-08-15T18:00:50.840518Z"
    }
   },
   "outputs": [],
   "source": [
    "CONFIG = {\n",
    "    'SUBSCRIPTION_KEY': '',\n",
    "    'LOCATION': 'trial',\n",
    "    'ACCOUNT_ID': ''\n",
    "}"
   ]
  },
  {
   "cell_type": "code",
   "execution_count": 3,
   "metadata": {
    "ExecuteTime": {
     "end_time": "2019-08-15T18:00:53.157498Z",
     "start_time": "2019-08-15T18:00:53.026491Z"
    }
   },
   "outputs": [],
   "source": [
    "from video_indexer import VideoIndexer\n",
    "\n",
    "vi = VideoIndexer(\n",
    "    vi_subscription_key=CONFIG['SUBSCRIPTION_KEY'],\n",
    "    vi_location=CONFIG['LOCATION'],\n",
    "    vi_account_id=CONFIG['ACCOUNT_ID']\n",
    ")"
   ]
  },
  {
   "cell_type": "markdown",
   "metadata": {},
   "source": [
    "# Upload audio files and get information"
   ]
  },
  {
   "cell_type": "code",
   "execution_count": 4,
   "metadata": {
    "ExecuteTime": {
     "end_time": "2019-08-15T18:00:55.596792Z",
     "start_time": "2019-08-15T18:00:55.593233Z"
    }
   },
   "outputs": [],
   "source": [
    "audio_files = [\n",
    "    ('./assets/video indexer/Easy Arabic - Most Common Phrases - long.wav',                  'arabic-sample'),\n",
    "    ('./assets/video indexer/LES MOTS DOUX EN FRANÇAIS les surnoms des amoureux - long.wav', 'french-sample'),\n",
    "    ('./assets/video indexer/Do Germans like to protest Easy German 308 - long.wav',         'german-sample'),\n",
    "    ('./assets/video indexer/5 nuovi podcast in italiano da ascoltare (2019 - long.wav',     'italian-sample'),\n",
    "    ('./assets/video indexer/Usos de se en español-long.wav',                                'spanish-sample')\n",
    "]"
   ]
  },
  {
   "cell_type": "code",
   "execution_count": 5,
   "metadata": {
    "ExecuteTime": {
     "end_time": "2019-08-15T18:00:58.454990Z",
     "start_time": "2019-08-15T18:00:58.449048Z"
    }
   },
   "outputs": [],
   "source": [
    "def upload_to_video_indexer(input_filename, audio_name):\n",
    "    video_id = vi.upload_to_video_indexer(\n",
    "        input_filename=input_filename,\n",
    "        video_name=audio_name, # Unique identifier\n",
    "        video_language='auto'  # this must be set to 'auto' as we want to examine quality of LID feature\n",
    "    )\n",
    "    return video_id\n",
    "\n",
    "\n",
    "def get_audio_info(audio_id):\n",
    "    info = vi.get_video_info(\n",
    "        video_id = audio_id,\n",
    "        video_language=''\n",
    "    )\n",
    "    return info\n",
    "\n",
    "def get_language_insights(info):\n",
    "    print(\"Detected source language: \", info['videos'][0]['insights']['sourceLanguage'])\n",
    "    print(\"Recognized texts:\")\n",
    "\n",
    "    for insight in info['videos'][0]['insights']['transcript']:\n",
    "        if type(insight['text']) is str:\n",
    "            print(insight['text'])   "
   ]
  },
  {
   "cell_type": "markdown",
   "metadata": {},
   "source": [
    "## Upload audio files"
   ]
  },
  {
   "cell_type": "code",
   "execution_count": 6,
   "metadata": {
    "ExecuteTime": {
     "end_time": "2019-08-15T18:05:21.750901Z",
     "start_time": "2019-08-15T18:01:03.416237Z"
    }
   },
   "outputs": [
    {
     "name": "stdout",
     "output_type": "stream",
     "text": [
      "Getting video indexer access token...\n",
      "Access Token: eyJ0eXAiOiJKV1Q............\n",
      "Uploading video to video indexer...\n",
      "Uploading video to video indexer...\n",
      "Uploading video to video indexer...\n",
      "Uploading video to video indexer...\n",
      "Uploading video to video indexer...\n"
     ]
    }
   ],
   "source": [
    "arabic_audio_id  = upload_to_video_indexer(audio_files[0][0], audio_files[0][1])\n",
    "french_audio_id  = upload_to_video_indexer(audio_files[1][0], audio_files[1][1])\n",
    "german_audio_id  = upload_to_video_indexer(audio_files[2][0], audio_files[2][1])\n",
    "italian_audio_id = upload_to_video_indexer(audio_files[3][0], audio_files[3][1])\n",
    "spanish_audio_id = upload_to_video_indexer(audio_files[4][0], audio_files[4][1])"
   ]
  },
  {
   "cell_type": "markdown",
   "metadata": {},
   "source": [
    "## Arabic"
   ]
  },
  {
   "cell_type": "code",
   "execution_count": 7,
   "metadata": {
    "ExecuteTime": {
     "end_time": "2019-08-15T18:12:37.819132Z",
     "start_time": "2019-08-15T18:12:36.413631Z"
    },
    "scrolled": false
   },
   "outputs": [
    {
     "name": "stdout",
     "output_type": "stream",
     "text": [
      "Getting video info for: e049b58d0c\n",
      "Detected source language:  en-US\n",
      "Recognized texts:\n",
      "I Salaam alaykum, Sibaja hired. Muscle higher.\n",
      "To spell a higher. OK,\n",
      "for her Luka. And I'll be hired.\n",
      "My smoker. Anna is me.\n",
      "Come on broker. I know let.\n",
      "Minena hunt. Aina Tuscan. Aina Tamil.\n",
      "Mahoya Duca. Mahu Haiwan, Oklahoma football.\n",
      "Serta will Aquatica mother felt Allium Malter stuff Alvin Hiatal swore.\n",
      "After near Tacoma closer at.\n",
      "And Azure air. And Alchon worried the harbor Ilham Mom.\n",
      "And at a bun, burritos,\n",
      "Thira or read one outlook at the Sotero Moussa at the city.\n",
      "A nurse at their own Azure.\n"
     ]
    }
   ],
   "source": [
    "arabic_info = get_audio_info(arabic_audio_id)\n",
    "get_language_insights(arabic_info)"
   ]
  },
  {
   "cell_type": "markdown",
   "metadata": {},
   "source": [
    "## French"
   ]
  },
  {
   "cell_type": "code",
   "execution_count": 8,
   "metadata": {
    "ExecuteTime": {
     "end_time": "2019-08-15T18:12:48.447395Z",
     "start_time": "2019-08-15T18:12:47.245091Z"
    }
   },
   "outputs": [
    {
     "name": "stdout",
     "output_type": "stream",
     "text": [
      "Getting video info for: f9196ac1f0\n",
      "Detected source language:  fr-FR\n",
      "Recognized texts:\n",
      "Aujourd'hui une vidéo avec beaucoup d'amour car on va voir comment\n",
      "les amoureux français s'appellent entre eux et surtout on va vous annoncer les fameuses les très attendues offre de l'été voilà donc\n",
      "vous allez avoir 20 pourcent de réduction sur tous les produits\n",
      "de français avec Pierre avec le code promo été 2019 sans accent d'accord comme ça alors c'est super intéressant parce que comme\n",
      "c'est surtout les produit avec si vous mettez 2 produit dans votre panier vous avez 20 pourcent 3 produit 30 pourcent.\n",
      "Le produit 40 pourcent et\n",
      "ça se cumule donc à la fin il va voir jusqu'à 70 pourcent bah\n",
      "c'est presque gratuit quoi alors profitez en et apprenez le français pendant\n",
      "l'été alors on commence mon canard aller ma puce on y va ma\n",
      "pupuce alors oui c'est l'été il était chaud c'est un peu la\n",
      "saison quand même de l'amour et donc on va voir comment les\n",
      "Français et là c'est vraiment incroyable à chaque fois\n",
      "qu'on parle de ça en classe les élèves sont mort de rire?\n",
      "Donc on va voir\n",
      "comment les Français s'appellent entre eux avec leur petit mot d'amour bien sûr.\n"
     ]
    }
   ],
   "source": [
    "french_info = get_audio_info(french_audio_id)\n",
    "get_language_insights(french_info)"
   ]
  },
  {
   "cell_type": "markdown",
   "metadata": {},
   "source": [
    "## German"
   ]
  },
  {
   "cell_type": "code",
   "execution_count": 9,
   "metadata": {
    "ExecuteTime": {
     "end_time": "2019-08-15T18:12:56.440396Z",
     "start_time": "2019-08-15T18:12:55.293461Z"
    }
   },
   "outputs": [
    {
     "name": "stdout",
     "output_type": "stream",
     "text": [
      "Getting video info for: 60877519cd\n",
      "Detected source language:  de-DE\n",
      "Recognized texts:\n",
      "Hallo Leute Wir haben heute Besuch von Mo und Mohammed die beiden kommen aus dem Sudan studieren gerade in Deutschland und sie haben uns mit einem sehr interessanten Thema angesprochen wie\n",
      "ihr wisst gibt es im Moment Proteste im Sudan die Menschen protestieren gegen die militärregierung und für mehr Demokratie und deswegen Fragen wir heute die Menschen hier auf der Straße\n",
      "wart ihr schon mal bei einem Protest und wogegen protestiert\n",
      "ihr los geht's los geht's.\n",
      "Unsere Frage heute ist warst du schon mal bei\n",
      "einem Protest ja Ich war schon mal bei einem Protest und was für ein Protest war das das war eine Demonstration gegen die Massentierhaltung und gegen die agrarindustrie wie sie\n",
      "gerade im Moment irgendwie stattfindet vor ein\n",
      "paar Jahren auch in Berlin ja Ich war bei manchen Demos mal dabei erzähl mal was waren das für die einmal diese Friday Computers Demos und einmal eine Demo als\n",
      "gleichzeitig noch eine Demo von rechten war also die gegen den Vodafone.\n",
      "Waren sie schon mal auf einem Protest\n",
      "Na ja ich Glaub 9 kurz vor dem Irak Krieg ja Zweit 19 10098 Oder-So-Ähnlich 20 Jahre.\n"
     ]
    }
   ],
   "source": [
    "german_info = get_audio_info(german_audio_id)\n",
    "get_language_insights(german_info)"
   ]
  },
  {
   "cell_type": "markdown",
   "metadata": {},
   "source": [
    "## Italian"
   ]
  },
  {
   "cell_type": "code",
   "execution_count": 10,
   "metadata": {
    "ExecuteTime": {
     "end_time": "2019-08-15T18:13:00.541328Z",
     "start_time": "2019-08-15T18:12:59.468951Z"
    }
   },
   "outputs": [
    {
     "name": "stdout",
     "output_type": "stream",
     "text": [
      "Getting video info for: be98cabf93\n",
      "Detected source language:  it-IT\n",
      "Recognized texts:\n",
      "Ciao a tutti e bentornati sul mio canale spero che stiate tutti benissimo e che siate pronti per questo video oggi voglio consigliarvi 05:00 podcast italiani da ascoltare nel vostro tempo\n",
      "libero per migliorare le vostre capacità di ascolto in italiano so che molti di voi ascolta uno podcast quindi so che vi piacciono i podcast e per questo motivo ho\n",
      "deciso di documentarmi e di andare a cercare dei podcast nuovi?\n",
      "E soprattutto interessanti già in passato vi avevo parlato dei 5 podcast però adesso voglio fare un video aggiornato e quindi me ne consiglio altri 5 ma se volete vedere\n",
      "quel video che ho fatto in passato vi lascio il link nella descrizione del video qui sotto cominciamo con il primo podcast che si chiama racconti il titolo si spiega\n",
      "da solo si tratta di una serie di racconti di fantasia?\n",
      "Ispirati da fatti realmente accaduti ma anche da libri di romanzi e anche semplicemente dalla fantasia degli autori ogni racconto è narrato dall'autore del racconto.\n"
     ]
    }
   ],
   "source": [
    "italian_info = get_audio_info(italian_audio_id)\n",
    "get_language_insights(italian_info)"
   ]
  },
  {
   "cell_type": "markdown",
   "metadata": {},
   "source": [
    "## Spanish"
   ]
  },
  {
   "cell_type": "code",
   "execution_count": 11,
   "metadata": {
    "ExecuteTime": {
     "end_time": "2019-08-15T18:13:04.013180Z",
     "start_time": "2019-08-15T18:13:03.044544Z"
    }
   },
   "outputs": [
    {
     "name": "stdout",
     "output_type": "stream",
     "text": [
      "Getting video info for: 58ecb1a06f\n",
      "Detected source language:  it-IT\n",
      "Recognized texts:\n",
      "Ora sì che la scheda lì come stai se todo bien\n",
      "la vita va bien bienvenidos bienvenidos a Este Canal\n",
      "che se già ma sei già m'hai espagnol con?\n",
      "È spagnolo con migo espagnol con on sig.\n",
      "giusto quanto gli Este un Canal donde puedes ver bivio se ne spagnol para aprender Frances no e no videos en espagnol per la prendere e espanyol\n",
      "i ohi tengo una pregunta tengo una pregunta tengo una presunta una estudiante de spagnoli che si ghe\n",
      "nuestra Chiavenna? Espagnol con quando mi appetito\n",
      "me ha perdido por favor PA per il per favore qua per favore explicar Como se usa se\n",
      "en espagnol se? Bueno bueno non ho il link o un\n",
      "problema non è un problema di Otello e io te l'ho x plico g Otello Act\n",
      "plico che ero pronunziare bianki ero pronunciar vien porche mean di ciò che che no pronunziò muy bien keeper?\n"
     ]
    }
   ],
   "source": [
    "spanish_info = get_audio_info(spanish_audio_id)\n",
    "get_language_insights(spanish_info)"
   ]
  }
 ],
 "metadata": {
  "kernelspec": {
   "display_name": "Python [conda root]",
   "language": "python",
   "name": "conda-root-py"
  },
  "language_info": {
   "codemirror_mode": {
    "name": "ipython",
    "version": 3
   },
   "file_extension": ".py",
   "mimetype": "text/x-python",
   "name": "python",
   "nbconvert_exporter": "python",
   "pygments_lexer": "ipython3",
   "version": "3.6.8"
  },
  "toc": {
   "base_numbering": 1,
   "nav_menu": {},
   "number_sections": true,
   "sideBar": true,
   "skip_h1_title": false,
   "title_cell": "Table of Contents",
   "title_sidebar": "Contents",
   "toc_cell": false,
   "toc_position": {},
   "toc_section_display": true,
   "toc_window_display": false
  }
 },
 "nbformat": 4,
 "nbformat_minor": 2
}
