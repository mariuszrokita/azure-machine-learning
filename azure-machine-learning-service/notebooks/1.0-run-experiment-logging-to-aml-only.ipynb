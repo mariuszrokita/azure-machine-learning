{
 "cells": [
  {
   "cell_type": "code",
   "execution_count": null,
   "metadata": {},
   "outputs": [],
   "source": [
    "import azureml.core\n",
    "print(azureml.core.VERSION)"
   ]
  },
  {
   "cell_type": "code",
   "execution_count": null,
   "metadata": {},
   "outputs": [],
   "source": [
    "WORKSPACE_NAME=''\n",
    "SUBSCRIPTION_ID=''\n",
    "RESOURCE_GROUP=''\n",
    "LOCATION=''"
   ]
  },
  {
   "cell_type": "code",
   "execution_count": null,
   "metadata": {},
   "outputs": [],
   "source": [
    "from azureml.core import Workspace\n",
    "\n",
    "ws = Workspace(\n",
    "    subscription_id=SUBSCRIPTION_ID, \n",
    "    resource_group=RESOURCE_GROUP,\n",
    "    workspace_name=WORKSPACE_NAME,\n",
    "    _location=LOCATION\n",
    ")\n",
    "\n",
    "# create a new workspace or retrieve an existing one\n",
    "ws = ws.setup()"
   ]
  },
  {
   "cell_type": "code",
   "execution_count": null,
   "metadata": {},
   "outputs": [],
   "source": [
    "# show workspace details\n",
    "ws.get_details()"
   ]
  },
  {
   "cell_type": "code",
   "execution_count": null,
   "metadata": {},
   "outputs": [],
   "source": [
    "import os.path\n",
    "\n",
    "# write the details of the workspace to a configuration file to the notebook library\n",
    "if not os.path.exists('config.json'):\n",
    "    ws.write_config()"
   ]
  },
  {
   "cell_type": "code",
   "execution_count": null,
   "metadata": {},
   "outputs": [],
   "source": [
    "# Use the workspace\n",
    "from azureml.core import Experiment\n",
    "\n",
    "# create an experiment\n",
    "exp = Experiment(workspace=ws, name='trial_exp')\n",
    "\n",
    "# start a run\n",
    "run = exp.start_logging()\n",
    "\n",
    "# log a number\n",
    "run.log('trail', 30)\n",
    "\n",
    "# log a list (Fibonacci numbers)\n",
    "run.log_list('my list', [1, 1, 2, 3, 5, 8, 13, 21, 34, 55]) \n",
    "\n",
    "# finish the run\n",
    "run.complete()"
   ]
  },
  {
   "cell_type": "code",
   "execution_count": null,
   "metadata": {},
   "outputs": [],
   "source": [
    "from azureml.widgets import RunDetails\n",
    "RunDetails(run).show()"
   ]
  },
  {
   "cell_type": "code",
   "execution_count": null,
   "metadata": {},
   "outputs": [],
   "source": [
    "print(run.get_portal_url())"
   ]
  }
 ],
 "metadata": {
  "kernelspec": {
   "display_name": "Python 3",
   "language": "python",
   "name": "python3"
  },
  "language_info": {
   "codemirror_mode": {
    "name": "ipython",
    "version": 3
   },
   "file_extension": ".py",
   "mimetype": "text/x-python",
   "name": "python",
   "nbconvert_exporter": "python",
   "pygments_lexer": "ipython3",
   "version": "3.6.9"
  }
 },
 "nbformat": 4,
 "nbformat_minor": 2
}
