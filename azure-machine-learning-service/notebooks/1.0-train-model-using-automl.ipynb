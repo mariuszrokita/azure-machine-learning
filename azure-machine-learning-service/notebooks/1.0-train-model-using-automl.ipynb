{
 "cells": [
  {
   "cell_type": "code",
   "execution_count": 2,
   "metadata": {},
   "outputs": [],
   "source": [
    "from utils import load_data\n",
    "\n",
    "# To help the model converge faster, shrink the intensity values (X) from 0-255 to 0-1\n",
    "X_train = load_data('./data/raw/train-images.gz', False) / 255.0\n",
    "y_train = load_data('./data/raw/train-labels.gz', True).reshape(-1)\n",
    "\n",
    "X_test = load_data('./data/raw/test-images.gz', False) / 255.0\n",
    "y_test = load_data('./data/raw/test-labels.gz', True).reshape(-1)"
   ]
  },
  {
   "cell_type": "markdown",
   "metadata": {},
   "source": [
    "# Azure Machine Learning service"
   ]
  },
  {
   "cell_type": "markdown",
   "metadata": {},
   "source": [
    "## Set up workspace"
   ]
  },
  {
   "cell_type": "code",
   "execution_count": 3,
   "metadata": {},
   "outputs": [
    {
     "name": "stdout",
     "output_type": "stream",
     "text": [
      "1.0.57\n"
     ]
    }
   ],
   "source": [
    "import azureml.core\n",
    "print(azureml.core.VERSION)"
   ]
  },
  {
   "cell_type": "code",
   "execution_count": 4,
   "metadata": {},
   "outputs": [],
   "source": [
    "WORKSPACE_NAME=''\n",
    "SUBSCRIPTION_ID=''\n",
    "RESOURCE_GROUP=''\n",
    "LOCATION=''"
   ]
  },
  {
   "cell_type": "code",
   "execution_count": 5,
   "metadata": {},
   "outputs": [],
   "source": [
    "from azureml.core import Workspace, Experiment, Run\n",
    "from azureml.exceptions import WorkspaceException\n",
    "\n",
    "try:\n",
    "    ws = Workspace.create(\n",
    "        subscription_id=SUBSCRIPTION_ID, \n",
    "        resource_group=RESOURCE_GROUP,\n",
    "        name=WORKSPACE_NAME,\n",
    "        location=LOCATION\n",
    "    )\n",
    "except WorkspaceException:\n",
    "    ws = Workspace.get(\n",
    "        subscription_id=SUBSCRIPTION_ID, \n",
    "        resource_group=RESOURCE_GROUP,\n",
    "        name=WORKSPACE_NAME\n",
    "    )"
   ]
  },
  {
   "cell_type": "code",
   "execution_count": 6,
   "metadata": {},
   "outputs": [],
   "source": [
    "# show workspace details\n",
    "ws.get_details()"
   ]
  },
  {
   "cell_type": "code",
   "execution_count": 7,
   "metadata": {},
   "outputs": [],
   "source": [
    "experiment = Experiment(workspace = ws, \n",
    "                        name = \"automl-experiment\")"
   ]
  },
  {
   "cell_type": "markdown",
   "metadata": {},
   "source": [
    "# Training"
   ]
  },
  {
   "cell_type": "markdown",
   "metadata": {},
   "source": [
    "## Define the machine learning objective and constraints"
   ]
  },
  {
   "cell_type": "code",
   "execution_count": 8,
   "metadata": {
    "scrolled": false
   },
   "outputs": [],
   "source": [
    "from azureml.core.experiment import Experiment\n",
    "from azureml.core.workspace import Workspace\n",
    "from azureml.train.automl import AutoMLConfig\n",
    "import logging\n",
    "\n",
    "automl_config = AutoMLConfig(task = 'regression',\n",
    "                  iteration_timeout_minutes = 5,\n",
    "                  iterations = 10,\n",
    "                  primary_metric = 'spearman_correlation',\n",
    "                  n_cross_validations = 5,\n",
    "                  debug_log = 'automl.log',\n",
    "                  verbosity = logging.INFO,\n",
    "                  X = X_train, \n",
    "                  y = y_train\n",
    "                  #,path = project_folder\n",
    "                  )"
   ]
  },
  {
   "cell_type": "code",
   "execution_count": 9,
   "metadata": {},
   "outputs": [
    {
     "name": "stdout",
     "output_type": "stream",
     "text": [
      "Running on local machine\n",
      "Parent Run ID: AutoML_8ab3b1c1-14c5-48f4-af77-58503393628c\n",
      "Current status: DatasetCrossValidationSplit. Generating CV splits.\n",
      "Current status: ModelSelection. Beginning model selection.\n",
      "\n",
      "****************************************************************************************************\n",
      "ITERATION: The iteration being evaluated.\n",
      "PIPELINE: A summary description of the pipeline being evaluated.\n",
      "DURATION: Time taken for the current iteration.\n",
      "METRIC: The result of computing score on the fitted pipeline.\n",
      "BEST: The best observed score thus far.\n",
      "****************************************************************************************************\n",
      "\n",
      " ITERATION   PIPELINE                                       DURATION      METRIC      BEST\n",
      "         0   StandardScalerWrapper RandomForest             0:00:41       0.7863    0.7863\n",
      "         1                                                  0:05:06          nan    0.7863\n",
      "ERROR: Fit operation exceeded provided timeout, terminating and moving onto the next iteration. Please consider increasing the iteration_timeout_minutes parameter.\n",
      "         2   StandardScalerWrapper ExtremeRandomTrees       0:02:14       0.7851    0.7863\n",
      "         3   StandardScalerWrapper LightGBM                 0:00:46       0.7351    0.7863\n",
      "         4   RobustScaler DecisionTree                      0:01:03       0.8399    0.8399\n",
      "         5   StandardScalerWrapper LassoLars                0:00:22       0.7153    0.8399\n",
      "         6   StandardScalerWrapper LightGBM                 0:00:50       0.9167    0.9167\n",
      "         7   StandardScalerWrapper RandomForest             0:00:47       0.8084    0.9167\n",
      "         8   VotingEnsemble                                 0:00:34       0.9167    0.9167\n",
      "         9   StackEnsemble                                  0:00:34       0.9167    0.9167\n"
     ]
    }
   ],
   "source": [
    "local_run = experiment.submit(automl_config, show_output = True)"
   ]
  },
  {
   "cell_type": "markdown",
   "metadata": {},
   "source": [
    "## Retrieve the best model"
   ]
  },
  {
   "cell_type": "code",
   "execution_count": 10,
   "metadata": {},
   "outputs": [
    {
     "data": {
      "application/vnd.jupyter.widget-view+json": {
       "model_id": "c647af6f45b440f8b8c6d529a81f5935",
       "version_major": 2,
       "version_minor": 0
      },
      "text/plain": [
       "_AutoMLWidget(widget_settings={'childWidgetDisplay': 'popup', 'send_telemetry': False, 'log_level': 'INFO', 's…"
      ]
     },
     "metadata": {},
     "output_type": "display_data"
    }
   ],
   "source": [
    "from azureml.widgets import RunDetails\n",
    "RunDetails(local_run).show()"
   ]
  },
  {
   "cell_type": "code",
   "execution_count": 11,
   "metadata": {},
   "outputs": [],
   "source": [
    "# persist locally the best fitted model\n",
    "best_run, fitted_model = local_run.get_output()"
   ]
  },
  {
   "cell_type": "code",
   "execution_count": 12,
   "metadata": {},
   "outputs": [
    {
     "data": {
      "text/html": [
       "<table style=\"width:100%\"><tr><th>Experiment</th><th>Id</th><th>Type</th><th>Status</th><th>Details Page</th><th>Docs Page</th></tr><tr><td>automl-experiment</td><td>AutoML_8ab3b1c1-14c5-48f4-af77-58503393628c_9</td><td></td><td>Completed</td><td><a href=\"https://mlworkspace.azure.ai/portal/subscriptions/07731f19-8d12-4823-acca-0742b3f3fd3b/resourceGroups/aml-service-rg/providers/Microsoft.MachineLearningServices/workspaces/ml-service-workspace/experiments/automl-experiment/runs/AutoML_8ab3b1c1-14c5-48f4-af77-58503393628c_9\" target=\"_blank\" rel=\"noopener\">Link to Azure Portal</a></td><td><a href=\"https://docs.microsoft.com/en-us/python/api/azureml-core/azureml.core.run.Run?view=azure-ml-py\" target=\"_blank\" rel=\"noopener\">Link to Documentation</a></td></tr></table>"
      ],
      "text/plain": [
       "Run(Experiment: automl-experiment,\n",
       "Id: AutoML_8ab3b1c1-14c5-48f4-af77-58503393628c_9,\n",
       "Type: None,\n",
       "Status: Completed)"
      ]
     },
     "execution_count": 12,
     "metadata": {},
     "output_type": "execute_result"
    }
   ],
   "source": [
    "best_run"
   ]
  },
  {
   "cell_type": "code",
   "execution_count": 13,
   "metadata": {},
   "outputs": [
    {
     "data": {
      "text/plain": [
       "RegressionPipeline(pipeline=Pipeline(memory=None,\n",
       "     steps=[('stackensembleregressor', StackEnsembleRegressor(base_learners=[('6', RegressionPipeline(pipeline=Pipeline(memory=None,\n",
       "     steps=[('StandardScalerWrapper', <automl.client.core.common.model_wrappers.StandardScalerWrapper object at 0x000001C7A3094208>), ('LightGBMRegressor', LightGBMRegresso...   random_state=None, selection='cyclic', tol=0.0001, verbose=0),\n",
       "            training_cv_folds=5))]),\n",
       "          stddev=None)"
      ]
     },
     "execution_count": 13,
     "metadata": {},
     "output_type": "execute_result"
    }
   ],
   "source": [
    "fitted_model"
   ]
  },
  {
   "cell_type": "markdown",
   "metadata": {},
   "source": [
    "## Test the best model"
   ]
  },
  {
   "cell_type": "code",
   "execution_count": 14,
   "metadata": {},
   "outputs": [],
   "source": [
    "y_pred_train = fitted_model.predict(X_train)\n",
    "y_residual_train = y_train - y_pred_train\n",
    "y_pred_test = fitted_model.predict(X_test)\n",
    "y_residual_test = y_test - y_pred_test"
   ]
  }
 ],
 "metadata": {
  "kernelspec": {
   "display_name": "Python [conda env:amlenv] *",
   "language": "python",
   "name": "conda-env-amlenv-py"
  },
  "language_info": {
   "codemirror_mode": {
    "name": "ipython",
    "version": 3
   },
   "file_extension": ".py",
   "mimetype": "text/x-python",
   "name": "python",
   "nbconvert_exporter": "python",
   "pygments_lexer": "ipython3",
   "version": "3.6.9"
  },
  "toc": {
   "base_numbering": 1,
   "nav_menu": {},
   "number_sections": true,
   "sideBar": true,
   "skip_h1_title": false,
   "title_cell": "Table of Contents",
   "title_sidebar": "Contents",
   "toc_cell": false,
   "toc_position": {},
   "toc_section_display": true,
   "toc_window_display": true
  }
 },
 "nbformat": 4,
 "nbformat_minor": 2
}
