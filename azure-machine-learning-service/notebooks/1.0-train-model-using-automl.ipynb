{
 "cells": [
  {
   "cell_type": "code",
   "execution_count": 1,
   "metadata": {},
   "outputs": [],
   "source": [
    "from utils import load_data\n",
    "\n",
    "# To help the model converge faster, shrink the intensity values (X) from 0-255 to 0-1\n",
    "X_train = load_data('./data/raw/train-images.gz', False) / 255.0\n",
    "y_train = load_data('./data/raw/train-labels.gz', True).reshape(-1)\n",
    "\n",
    "X_test = load_data('./data/raw/test-images.gz', False) / 255.0\n",
    "y_test = load_data('./data/raw/test-labels.gz', True).reshape(-1)"
   ]
  },
  {
   "cell_type": "markdown",
   "metadata": {},
   "source": [
    "# Azure Machine Learning service"
   ]
  },
  {
   "cell_type": "markdown",
   "metadata": {},
   "source": [
    "## Set up workspace"
   ]
  },
  {
   "cell_type": "code",
   "execution_count": 2,
   "metadata": {},
   "outputs": [
    {
     "name": "stdout",
     "output_type": "stream",
     "text": [
      "1.0.57\n"
     ]
    }
   ],
   "source": [
    "import azureml.core\n",
    "print(azureml.core.VERSION)"
   ]
  },
  {
   "cell_type": "code",
   "execution_count": 3,
   "metadata": {},
   "outputs": [],
   "source": [
    "WORKSPACE_NAME=''\n",
    "SUBSCRIPTION_ID=''\n",
    "RESOURCE_GROUP=''\n",
    "LOCATION=''"
   ]
  },
  {
   "cell_type": "code",
   "execution_count": 4,
   "metadata": {},
   "outputs": [
    {
     "name": "stderr",
     "output_type": "stream",
     "text": [
      "WARNING - Warning: Falling back to use azure cli login credentials.\n",
      "If you run your code in unattended mode, i.e., where you can't give a user input, then we recommend to use ServicePrincipalAuthentication or MsiAuthentication.\n",
      "Please refer to aka.ms/aml-notebook-auth for different authentication mechanisms in azureml-sdk.\n"
     ]
    }
   ],
   "source": [
    "from azureml.core import Workspace, Experiment, Run\n",
    "from azureml.exceptions import WorkspaceException\n",
    "\n",
    "try:\n",
    "    ws = Workspace.create(\n",
    "        subscription_id=SUBSCRIPTION_ID, \n",
    "        resource_group=RESOURCE_GROUP,\n",
    "        name=WORKSPACE_NAME,\n",
    "        location=LOCATION\n",
    "    )\n",
    "except WorkspaceException:\n",
    "    ws = Workspace.get(\n",
    "        subscription_id=SUBSCRIPTION_ID, \n",
    "        resource_group=RESOURCE_GROUP,\n",
    "        name=WORKSPACE_NAME\n",
    "    )"
   ]
  },
  {
   "cell_type": "code",
   "execution_count": 5,
   "metadata": {},
   "outputs": [],
   "source": [
    "# show workspace details\n",
    "#ws.get_details()"
   ]
  },
  {
   "cell_type": "code",
   "execution_count": 6,
   "metadata": {},
   "outputs": [],
   "source": [
    "experiment = Experiment(workspace = ws, \n",
    "                        name = \"automl-experiment\")"
   ]
  },
  {
   "cell_type": "markdown",
   "metadata": {},
   "source": [
    "# Define the machine learning objective and constraints"
   ]
  },
  {
   "cell_type": "code",
   "execution_count": 7,
   "metadata": {
    "scrolled": false
   },
   "outputs": [],
   "source": [
    "from azureml.core.experiment import Experiment\n",
    "from azureml.core.workspace import Workspace\n",
    "from azureml.train.automl import AutoMLConfig\n",
    "import logging\n",
    "\n",
    "automl_config = AutoMLConfig(task = 'regression',\n",
    "                  iteration_timeout_minutes = 5,\n",
    "                  iterations = 10,\n",
    "                  primary_metric = 'spearman_correlation',\n",
    "                  n_cross_validations = 5,\n",
    "                  debug_log = 'automl.log',\n",
    "                  verbosity = logging.INFO,\n",
    "                  X = X_train, \n",
    "                  y = y_train\n",
    "                  #,path = project_folder\n",
    "                  )"
   ]
  },
  {
   "cell_type": "code",
   "execution_count": 8,
   "metadata": {},
   "outputs": [
    {
     "name": "stdout",
     "output_type": "stream",
     "text": [
      "Running on local machine\n",
      "Parent Run ID: AutoML_4c5cba54-63c9-411b-84bc-cd0cf820ae6d\n",
      "Current status: DatasetCrossValidationSplit. Generating CV splits.\n",
      "Current status: ModelSelection. Beginning model selection.\n",
      "\n",
      "****************************************************************************************************\n",
      "ITERATION: The iteration being evaluated.\n",
      "PIPELINE: A summary description of the pipeline being evaluated.\n",
      "DURATION: Time taken for the current iteration.\n",
      "METRIC: The result of computing score on the fitted pipeline.\n",
      "BEST: The best observed score thus far.\n",
      "****************************************************************************************************\n",
      "\n",
      " ITERATION   PIPELINE                                       DURATION      METRIC      BEST\n",
      "         0   StandardScalerWrapper RandomForest             0:00:44       0.7839    0.7839\n",
      "         1                                                  0:05:03          nan    0.7839\n",
      "ERROR: Fit operation exceeded provided timeout, terminating and moving onto the next iteration. Please consider increasing the iteration_timeout_minutes parameter.\n",
      "         2   StandardScalerWrapper ExtremeRandomTrees       0:02:14       0.7819    0.7839\n",
      "         3   StandardScalerWrapper LightGBM                 0:00:55       0.7351    0.7839\n",
      "         4   RobustScaler DecisionTree                      0:01:13       0.8400    0.8400\n",
      "         5   StandardScalerWrapper LassoLars                0:00:25       0.7153    0.8400\n",
      "         6   StandardScalerWrapper LightGBM                 0:00:54       0.9167    0.9167\n",
      "         7   StandardScalerWrapper RandomForest             0:00:50       0.8126    0.9167\n",
      "         8   VotingEnsemble                                 0:00:31       0.9167    0.9167\n",
      "         9   StackEnsemble                                  0:00:32       0.9167    0.9167\n"
     ]
    }
   ],
   "source": [
    "local_run = experiment.submit(automl_config, show_output = True)"
   ]
  },
  {
   "cell_type": "markdown",
   "metadata": {},
   "source": [
    "# Retrieve the best model"
   ]
  },
  {
   "cell_type": "code",
   "execution_count": 9,
   "metadata": {},
   "outputs": [
    {
     "data": {
      "application/vnd.jupyter.widget-view+json": {
       "model_id": "e7b560937ad74ff7a6a3ddcc006aa9e6",
       "version_major": 2,
       "version_minor": 0
      },
      "text/plain": [
       "_AutoMLWidget(widget_settings={'childWidgetDisplay': 'popup', 'send_telemetry': False, 'log_level': 'INFO', 's…"
      ]
     },
     "metadata": {},
     "output_type": "display_data"
    }
   ],
   "source": [
    "from azureml.widgets import RunDetails\n",
    "RunDetails(local_run).show()"
   ]
  },
  {
   "cell_type": "code",
   "execution_count": 10,
   "metadata": {},
   "outputs": [],
   "source": [
    "best_run, fitted_model = local_run.get_output()"
   ]
  },
  {
   "cell_type": "markdown",
   "metadata": {},
   "source": [
    "# Test the best model"
   ]
  },
  {
   "cell_type": "code",
   "execution_count": 11,
   "metadata": {},
   "outputs": [],
   "source": [
    "y_pred_train = fitted_model.predict(X_train)\n",
    "y_residual_train = y_train - y_pred_train\n",
    "y_pred_test = fitted_model.predict(X_test)\n",
    "y_residual_test = y_test - y_pred_test"
   ]
  }
 ],
 "metadata": {
  "kernelspec": {
   "display_name": "Python [conda env:amlenv] *",
   "language": "python",
   "name": "conda-env-amlenv-py"
  },
  "language_info": {
   "codemirror_mode": {
    "name": "ipython",
    "version": 3
   },
   "file_extension": ".py",
   "mimetype": "text/x-python",
   "name": "python",
   "nbconvert_exporter": "python",
   "pygments_lexer": "ipython3",
   "version": "3.6.9"
  }
 },
 "nbformat": 4,
 "nbformat_minor": 2
}
