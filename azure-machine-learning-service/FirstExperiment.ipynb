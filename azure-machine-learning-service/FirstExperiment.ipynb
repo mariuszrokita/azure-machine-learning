{
 "cells": [
  {
   "cell_type": "code",
   "execution_count": null,
   "metadata": {},
   "outputs": [],
   "source": [
    "import azureml.core\n",
    "print(azureml.core.VERSION)"
   ]
  },
  {
   "cell_type": "code",
   "execution_count": null,
   "metadata": {},
   "outputs": [],
   "source": [
    "from azureml.core import Workspace\n",
    "\n",
    "ws = Workspace.create(\n",
    "    name='',\n",
    "    subscription_id='', \n",
    "    resource_group='',\n",
    "    create_resource_group = True,\n",
    "    location=''\n",
    ")"
   ]
  },
  {
   "cell_type": "code",
   "execution_count": null,
   "metadata": {},
   "outputs": [],
   "source": [
    "# show workspace details\n",
    "ws.get_details()"
   ]
  },
  {
   "cell_type": "code",
   "execution_count": null,
   "metadata": {},
   "outputs": [],
   "source": [
    "import os.path\n",
    "\n",
    "# write the details of the workspace to a configuration file to the notebook library\n",
    "if not os.path.exists('config.json'):\n",
    "    ws.write_config()"
   ]
  },
  {
   "cell_type": "code",
   "execution_count": null,
   "metadata": {},
   "outputs": [],
   "source": [
    "# Use the workspace\n",
    "from azureml.core import Experiment\n",
    "\n",
    "# create an experiment\n",
    "exp = Experiment(workspace=ws, name='trial_exp')\n",
    "\n",
    "# start a run\n",
    "run = exp.start_logging()\n",
    "\n",
    "# log a number\n",
    "run.log('trail', 30)\n",
    "\n",
    "# log a list (Fibonacci numbers)\n",
    "run.log_list('my list', [1, 1, 2, 3, 5, 8, 13, 21, 34, 55]) \n",
    "\n",
    "# finish the run\n",
    "run.complete()"
   ]
  }
 ],
 "metadata": {
  "kernelspec": {
   "display_name": "Python 3",
   "language": "python",
   "name": "python3"
  },
  "language_info": {
   "codemirror_mode": {
    "name": "ipython",
    "version": 3
   },
   "file_extension": ".py",
   "mimetype": "text/x-python",
   "name": "python",
   "nbconvert_exporter": "python",
   "pygments_lexer": "ipython3",
   "version": "3.6.9"
  }
 },
 "nbformat": 4,
 "nbformat_minor": 2
}
